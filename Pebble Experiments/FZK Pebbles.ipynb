{
 "metadata": {
  "name": ""
 },
 "nbformat": 3,
 "nbformat_minor": 0,
 "worksheets": [
  {
   "cells": [
    {
     "cell_type": "markdown",
     "metadata": {},
     "source": [
      "#Pebbles from FZK"
     ]
    },
    {
     "cell_type": "markdown",
     "metadata": {},
     "source": [
      "Digital images of the pebbles that _did not_ go through the 425 $\\mu$m sieve were captured. We used the digital microscope to measure the diameter of some sample pebbles. Here's the result..."
     ]
    },
    {
     "cell_type": "code",
     "collapsed": false,
     "input": [
      "%pylab inline\n",
      "d = 2*array([0.316, 0.321, 0.273, 0.232, 0.317, 0.344, 0.276])\n",
      "hist(d)\n",
      "xlabel('diameter (mm)')\n",
      "ylabel('Count')\n",
      "print 'Average diameter: '+str(mean(d))"
     ],
     "language": "python",
     "metadata": {},
     "outputs": [
      {
       "output_type": "stream",
       "stream": "stdout",
       "text": [
        "Populating the interactive namespace from numpy and matplotlib\n",
        "Average diameter: 0.594\n"
       ]
      },
      {
       "metadata": {},
       "output_type": "display_data",
       "png": "[encoded data removed]",
       "text": [
        "<matplotlib.figure.Figure at 0x3ffee50>"
       ]
      }
     ],
     "prompt_number": 15
    },
    {
     "cell_type": "code",
     "collapsed": false,
     "input": [],
     "language": "python",
     "metadata": {},
     "outputs": []
    }
   ],
   "metadata": {}
  }
 ]
}