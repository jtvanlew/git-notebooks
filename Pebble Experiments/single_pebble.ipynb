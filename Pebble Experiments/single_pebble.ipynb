{
 "metadata": {
  "name": ""
 },
 "nbformat": 3,
 "nbformat_minor": 0,
 "worksheets": [
  {
   "cells": [
    {
     "cell_type": "code",
     "collapsed": false,
     "input": [
      "Al = {'E':70.*10**9.,'Fc':10.6,'nu':0.33}\n",
      "WC = {'E':732.*10**9.,'Fc':7.55,'nu':0.22}\n",
      "BK7 = {'E':82.*10**9.,'Fc':5.88,'nu':0.206}\n",
      "Li4SiO4 = {'E':90.*10**9.,'nu':0.25}\n",
      "LiT = {'E':120.*10**9.,'nu':0.25}"
     ],
     "language": "python",
     "metadata": {},
     "outputs": [],
     "prompt_number": 151
    },
    {
     "cell_type": "code",
     "collapsed": false,
     "input": [
      "Al['gamma'] = (1.-Al['nu']**2.)/Al['E']\n",
      "WC['gamma'] = (1.-WC['nu']**2.)/WC['E']\n",
      "BK7['gamma'] = (1.-BK7['nu']**2.)/BK7['E']\n",
      "Li4SiO4['gamma'] = (1.-Li4SiO4['nu']**2.)/Li4SiO4['E']"
     ],
     "language": "python",
     "metadata": {},
     "outputs": [],
     "prompt_number": 152
    },
    {
     "cell_type": "code",
     "collapsed": false,
     "input": [
      "Al['Estar'] = 1./((1.-Al['nu']**2.)/Al['E'] + (1.-Li4SiO4['nu']**2.)/Li4SiO4['E'])\n",
      "WC['Estar'] = 1./((1.-WC['nu']**2.)/WC['E'] + (1.-LiT['nu']**2.)/LiT['E'])\n",
      "\n",
      "print Al['Estar']\n",
      "print WC['Estar']"
     ],
     "language": "python",
     "metadata": {},
     "outputs": [
      {
       "output_type": "stream",
       "stream": "stdout",
       "text": [
        "43202764977.0\n",
        "1.09739368999e+11\n"
       ]
      }
     ],
     "prompt_number": 153
    },
    {
     "cell_type": "code",
     "collapsed": false,
     "input": [
      "Al['Wc'] = (2/5.)*(9/(16.*Al['Estar']**2.))**(1/3.)*Al['Fc']**(5/3)\n",
      "WC['Wc'] = (2/5.)*(9/(16.*WC['Estar']**2.))**(1/3.)*WC['Fc']**(5/3)\n",
      "\n",
      "print Al['Wc']\n",
      "print WC['Wc']"
     ],
     "language": "python",
     "metadata": {},
     "outputs": [
      {
       "output_type": "stream",
       "stream": "stdout",
       "text": [
        "2.8427085593e-07\n",
        "1.08760905018e-07\n"
       ]
      }
     ],
     "prompt_number": 154
    },
    {
     "cell_type": "code",
     "collapsed": false,
     "input": [
      "dp = mean([2.1,2.17,2.12,2.13,2.12])/1000.\n",
      "ep_max = (0.05/1000)\n",
      "epsilon = linspace(0,ep_max,1001)\n",
      "Fn = (4./3) * Al['Estar'] * (dp/2.)**(1/2.) * (epsilon/2)**(3./2)"
     ],
     "language": "python",
     "metadata": {},
     "outputs": [],
     "prompt_number": 158
    },
    {
     "cell_type": "code",
     "collapsed": false,
     "input": [
      "import pandas as pd"
     ],
     "language": "python",
     "metadata": {},
     "outputs": [],
     "prompt_number": 159
    },
    {
     "cell_type": "code",
     "collapsed": false,
     "input": [
      "df = pd.read_csv('NFRI_data.csv')\n",
      "\n",
      "disp1 = df.displacement1\n",
      "load1 = df.load1\n",
      "disp2 = df.displacement2\n",
      "load2 = df.load2\n",
      "\n",
      "df2 = pd.read_csv('zwick_data.csv')\n",
      "\n",
      "disp3 = df2.travel\n",
      "load3 = df2.force\n",
      "\n",
      "figure(1)\n",
      "plot(disp1,load1,'r')\n",
      "plot(disp2,load2,'b')\n",
      "plot(disp3,load3,'k')\n",
      "plot(epsilon*1000,Fn,'--')"
     ],
     "language": "python",
     "metadata": {},
     "outputs": [
      {
       "metadata": {},
       "output_type": "pyout",
       "prompt_number": 160,
       "text": [
        "[<matplotlib.lines.Line2D at 0x73a1b50>]"
       ]
      },
      {
       "metadata": {},
       "output_type": "display_data",
       "png": "[encoded data removed]",
       "text": [
        "<matplotlib.figure.Figure at 0x737bd10>"
       ]
      }
     ],
     "prompt_number": 160
    },
    {
     "cell_type": "code",
     "collapsed": false,
     "input": [],
     "language": "python",
     "metadata": {},
     "outputs": []
    }
   ],
   "metadata": {}
  }
 ]
}