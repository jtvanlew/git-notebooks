{
 "cells": [
  {
   "cell_type": "markdown",
   "metadata": {},
   "source": [
    "# Getting a time-response equation for a water heater"
   ]
  },
  {
   "cell_type": "markdown",
   "metadata": {},
   "source": [
    "$$\\rho c_p V\\frac{dT}{dt} = Q_{in} - hA(T-T_{air})$$"
   ]
  },
  {
   "cell_type": "markdown",
   "metadata": {},
   "source": [
    "##Assumptions\n",
    " * Vat of liquid is isothermal\n",
    " * Air temperature is constant\n",
    " * Heat transfer coefficient is constant\n",
    " * Constant material properties of the liquid\n",
    " * Fluid initial temperature is the same as that of the surrounding air"
   ]
  },
  {
   "cell_type": "markdown",
   "metadata": {},
   "source": [
    "###Non-dimensionalizing\n",
    "We can now non-dimensionalize the temperature by the set point and initial/air temperature\n",
    "$$\\theta = \\frac{T - T_{0/air}}{T_{set} - T_0}$$\n",
    "\n",
    "and our equation takes the simpler form of\n",
    "$$\\Delta T\\frac{d\\theta}{dt} = \\frac{q_{in}}{\\rho c_p} - \\frac{hA\\Delta T}{\\rho c_pV} \\theta $$\n",
    "where $\\Delta T = T_{set} - T_0$\n",
    "\n",
    "Rearranging gives\n",
    "$$\\frac{d\\theta}{dt} + \\alpha \\theta= \\frac{q_{in}}{\\rho c_p\\Delta T} $$\n",
    "where $\\alpha = \\frac{hA}{\\rho c_pV}$"
   ]
  },
  {
   "cell_type": "markdown",
   "metadata": {},
   "source": [
    "###Laplace transformation\n",
    "Putting the above equation through a Laplace transformation gives\n",
    "$$ s\\Theta(s) + \\alpha \\Theta(s) = Q(s)$$\n",
    "The transfer function between the dimensionless temperature $\\Theta(s)$ and the input power $Q(s)$ then becomes\n",
    "$$\\frac{\\Theta(s)}{Q(s)} = \\frac{1}{s + \\alpha}$$"
   ]
  },
  {
   "cell_type": "markdown",
   "metadata": {},
   "source": [
    "### Once again...\n",
    "Do it again without moving the coefficient from in front of the temperature\n",
    "$$\\rho c_p V\\Delta T\\frac{d\\theta}{dt} +hA\\Delta T\\theta = Q_{in}$$\n",
    "or\n",
    "$$ A s\\Theta(s) + B\\Theta(s) = Q(s) $$\n",
    "where $A = \\rho c_p V\\Delta T$ and $B = hA\\Delta T$\n",
    "\n",
    "So the transfer function between temperature and input power is\n",
    "$$\\frac{\\Theta(s)}{Q(s)} = \\frac{1}{As + B}$$"
   ]
  },
  {
   "cell_type": "code",
   "execution_count": null,
   "metadata": {
    "collapsed": true
   },
   "outputs": [],
   "source": []
  }
 ],
 "metadata": {
  "kernelspec": {
   "display_name": "Python 2",
   "language": "python",
   "name": "python2"
  },
  "language_info": {
   "codemirror_mode": {
    "name": "ipython",
    "version": 2
   },
   "file_extension": ".py",
   "mimetype": "text/x-python",
   "name": "python",
   "nbconvert_exporter": "python",
   "pygments_lexer": "ipython2",
   "version": "2.7.9"
  }
 },
 "nbformat": 4,
 "nbformat_minor": 0
}
