{
 "metadata": {
  "name": ""
 },
 "nbformat": 3,
 "nbformat_minor": 0,
 "worksheets": [
  {
   "cells": [
    {
     "cell_type": "code",
     "collapsed": false,
     "input": [
      "cd ~/myliggghts/shorterMicroMacro/post/strain1p/"
     ],
     "language": "python",
     "metadata": {},
     "outputs": [
      {
       "output_type": "stream",
       "stream": "stdout",
       "text": [
        "/media/DATAPART1/liggghts/myliggghts/shorterMicroMacro/post/strain1p\n"
       ]
      }
     ],
     "prompt_number": 1
    },
    {
     "cell_type": "code",
     "collapsed": false,
     "input": [
      "import pandas as pd\n",
      "%pylab"
     ],
     "language": "python",
     "metadata": {},
     "outputs": [
      {
       "output_type": "stream",
       "stream": "stdout",
       "text": [
        "Using matplotlib backend: TkAgg\n",
        "Populating the interactive namespace from numpy and matplotlib\n"
       ]
      },
      {
       "output_type": "stream",
       "stream": "stderr",
       "text": [
        "WARNING: pylab import has clobbered these variables: ['compress', 'draw_if_interactive']\n",
        "`%pylab --no-import-all` prevents importing * from pylab and numpy\n"
       ]
      }
     ],
     "prompt_number": 9
    },
    {
     "cell_type": "code",
     "collapsed": false,
     "input": [
      "df = pd.read_csv('strain1p0.csv')\n",
      "force = df.pressure\n",
      "area = df.Area\n",
      "pressure = force/area/10**6\n",
      "compress = pressure[0:1000]\n",
      "decompress = pressure[999:2001]\n",
      "strain1 = linspace(0,1,1000)\n",
      "strain2 = linspace(1,0,1002)\n",
      "\n",
      "plot(strain1,compress,'r')\n",
      "plot(strain2,decompress,'b')\n",
      "legend(['Pressure','Relaxation'],4)\n",
      "xlabel('strain (%)')\n",
      "ylabel('stress (MPa)')\n",
      "title('stress-strain diagram for 1% strain')"
     ],
     "language": "python",
     "metadata": {},
     "outputs": [
      {
       "metadata": {},
       "output_type": "pyout",
       "prompt_number": 16,
       "text": [
        "<matplotlib.text.Text at 0x42e6590>"
       ]
      }
     ],
     "prompt_number": 16
    },
    {
     "cell_type": "code",
     "collapsed": false,
     "input": [
      "cd ~/myliggghts/softerPebble/"
     ],
     "language": "python",
     "metadata": {},
     "outputs": [
      {
       "output_type": "stream",
       "stream": "stdout",
       "text": [
        "/home/jon/myliggghts/softerPebble\n"
       ]
      }
     ],
     "prompt_number": 13
    },
    {
     "cell_type": "code",
     "collapsed": false,
     "input": [
      "df = pd.read_csv('strain1p.csv')\n",
      "force = df.pressure\n",
      "area = df.Area\n",
      "pressure = force/area/10**6\n",
      "compress = pressure[0:500]\n",
      "decompress = pressure[499:1001]\n",
      "strain1 = linspace(0,1,500)\n",
      "strain2 = linspace(1,0,502)\n",
      "\n",
      "plot(strain1,compress,'r')\n",
      "plot(strain2,decompress,'b')\n",
      "legend(['Pressure','Relaxation'],4)\n",
      "xlabel('strain (%)')\n",
      "ylabel('stress (MPa)')\n",
      "title('stress-strain diagram for 1% strain')"
     ],
     "language": "python",
     "metadata": {},
     "outputs": [
      {
       "metadata": {},
       "output_type": "pyout",
       "prompt_number": 15,
       "text": [
        "<matplotlib.text.Text at 0x2af4910>"
       ]
      },
      {
       "metadata": {},
       "output_type": "display_data",
       "png": "[encoded data removed]",
       "text": [
        "<matplotlib.figure.Figure at 0x28f6a10>"
       ]
      }
     ],
     "prompt_number": 15
    },
    {
     "cell_type": "code",
     "collapsed": false,
     "input": [],
     "language": "python",
     "metadata": {},
     "outputs": []
    }
   ],
   "metadata": {}
  }
 ]
}