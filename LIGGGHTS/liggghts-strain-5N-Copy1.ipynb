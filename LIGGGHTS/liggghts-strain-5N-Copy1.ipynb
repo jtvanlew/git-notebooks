{
 "metadata": {
  "name": ""
 },
 "nbformat": 3,
 "nbformat_minor": 0,
 "worksheets": [
  {
   "cells": [
    {
     "cell_type": "code",
     "collapsed": false,
     "input": [
      "cd ../myliggghts/shorterMicroMacro/post/strain1p2/"
     ],
     "language": "python",
     "metadata": {},
     "outputs": [
      {
       "output_type": "stream",
       "stream": "stdout",
       "text": [
        "/media/DATAPART1/liggghts/myliggghts/shorterMicroMacro/post/strain1p2\n"
       ]
      }
     ],
     "prompt_number": 1
    },
    {
     "cell_type": "code",
     "collapsed": false,
     "input": [
      "import pandas as pd"
     ],
     "language": "python",
     "metadata": {},
     "outputs": [],
     "prompt_number": 2
    },
    {
     "cell_type": "code",
     "collapsed": false,
     "input": [
      "df = pd.read_csv('strain1p0.csv')\n",
      "force = df.pressure\n",
      "area = df.Area\n",
      "pressure = force/area/10**6\n",
      "compress = pressure[0:6062]\n",
      "decompress = pressure[6061:12000]\n",
      "strain1 = linspace(0,0.5,6062)\n",
      "strain2 = linspace(0.5,0,(12000-6061))\n",
      "\n",
      "plot(strain1,compress,'r')\n",
      "plot(strain2,decompress,'b')\n",
      "legend(['Pressure','Relaxation'],4)\n",
      "xlabel('strain (%)')\n",
      "ylabel('stress (MPa)')\n",
      "title('stress-strain diagram for 1% strain')"
     ],
     "language": "python",
     "metadata": {},
     "outputs": [
      {
       "metadata": {},
       "output_type": "pyout",
       "prompt_number": 12,
       "text": [
        "<matplotlib.text.Text at 0x54d7b50>"
       ]
      }
     ],
     "prompt_number": 12
    },
    {
     "cell_type": "code",
     "collapsed": false,
     "input": [],
     "language": "python",
     "metadata": {},
     "outputs": [],
     "prompt_number": 85
    }
   ],
   "metadata": {}
  }
 ]
}