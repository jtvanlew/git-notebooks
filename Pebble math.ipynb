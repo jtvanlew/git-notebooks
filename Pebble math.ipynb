{
 "cells": [
  {
   "cell_type": "code",
   "execution_count": null,
   "metadata": {
    "collapsed": true
   },
   "outputs": [],
   "source": [
    "import numpy as np"
   ]
  },
  {
   "cell_type": "code",
   "execution_count": null,
   "metadata": {
    "collapsed": true
   },
   "outputs": [],
   "source": [
    "P = 101.3e3\n",
    "T_0 = 273 # [K]\n",
    "R = 8.3144621 # [J/K-mol] universal gas constant\n",
    "M_g = 12.0107 # [g/mol] molecular mass of gas\n",
    "M_s = 4.002602 # [g/mol] molecular mass of solid\n",
    "k_f = # molecular thermal conductivity of gas outside Knudsen regime\n",
    "k_g = # thermal conductivity as a function of gas pressure\n",
    "Mstar = M_g # monoatomic gas like helium\n",
    "mu = M_g / M_s\n",
    "a_T = np.exp(-0.57*(T_s - T_0)/T_0)*(Mstar/(6.8+Mstar)) + \\\n",
    "      (2.4*mu/((1+mu)**2.))*(1-np.exp(-0.57*(T_s-T_0)/T_0)) # accommodation coefficient"
   ]
  },
  {
   "cell_type": "code",
   "execution_count": 2,
   "metadata": {
    "collapsed": false
   },
   "outputs": [
    {
     "name": "stdout",
     "output_type": "stream",
     "text": [
      "1.42857142857e-06\n"
     ]
    }
   ],
   "source": [
    "dp = 0.001\n",
    "L = 20*dp\n",
    "N = 1000\n",
    "\n",
    "dx = L/N\n",
    "cs = 10^4\n",
    "dt = dx/cs\n",
    "print dt"
   ]
  },
  {
   "cell_type": "code",
   "execution_count": 3,
   "metadata": {
    "collapsed": false
   },
   "outputs": [
    {
     "name": "stdout",
     "output_type": "stream",
     "text": [
      "1.0\n"
     ]
    }
   ],
   "source": [
    "Z = 50*dp\n",
    "U = 5/100.\n",
    "\n",
    "T = Z/U\n",
    "print T"
   ]
  },
  {
   "cell_type": "code",
   "execution_count": null,
   "metadata": {
    "collapsed": true
   },
   "outputs": [],
   "source": []
  }
 ],
 "metadata": {
  "kernelspec": {
   "display_name": "Python 2",
   "language": "python",
   "name": "python2"
  },
  "language_info": {
   "codemirror_mode": {
    "name": "ipython",
    "version": 2
   },
   "file_extension": ".py",
   "mimetype": "text/x-python",
   "name": "python",
   "nbconvert_exporter": "python",
   "pygments_lexer": "ipython2",
   "version": "2.7.9"
  }
 },
 "nbformat": 4,
 "nbformat_minor": 0
}
