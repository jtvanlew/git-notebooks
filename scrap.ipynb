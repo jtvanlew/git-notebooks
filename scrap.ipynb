{
 "metadata": {
  "name": "",
  "signature": "sha256:34349aa21628fac628a5cc1ef09b18a5e645a1c938c0961728f011c435f3fa5a"
 },
 "nbformat": 3,
 "nbformat_minor": 0,
 "worksheets": [
  {
   "cells": [
    {
     "cell_type": "markdown",
     "metadata": {},
     "source": [
      "testing stuff out"
     ]
    },
    {
     "cell_type": "code",
     "collapsed": false,
     "input": [],
     "language": "python",
     "metadata": {},
     "outputs": []
    }
   ],
   "metadata": {}
  }
 ]
}