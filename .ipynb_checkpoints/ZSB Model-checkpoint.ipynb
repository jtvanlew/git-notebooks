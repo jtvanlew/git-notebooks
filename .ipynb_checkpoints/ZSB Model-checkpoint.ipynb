{
 "cells": [
  {
   "cell_type": "code",
   "execution_count": 41,
   "metadata": {
    "collapsed": false
   },
   "outputs": [
    {
     "name": "stdout",
     "output_type": "stream",
     "text": [
      "Populating the interactive namespace from numpy and matplotlib\n"
     ]
    }
   ],
   "source": [
    "%pylab inline"
   ]
  },
  {
   "cell_type": "code",
   "execution_count": 52,
   "metadata": {
    "collapsed": false
   },
   "outputs": [],
   "source": [
    "def lambda_radiation(epsilon, epsilon_r, T, d, k_solid):\n",
    "    T = T + 273\n",
    "    sigma = 5.67E-8 # W m−2 K−4\n",
    "    B = 1.25 * ((1.-epsilon)/epsilon)**(10./9)\n",
    "    Lambda = k_solid / (4* sigma * T**3 * d)\n",
    "    lambda_e1 = (1-sqrt(1-epsilon))*epsilon\n",
    "    lambda_e2 = (sqrt(1-epsilon))/(2./epsilon_r - 1.)\n",
    "    lambda_e3 = (B+1.)/B\n",
    "    lambda_e4 = (1/(1+1/((2./epsilon_r - 1.)*Lambda)))\n",
    "    lambda_e = (lambda_e1 + lambda_e2*lambda_e3*lambda_e4)*4.*sigma*T**3*d\n",
    "    return lambda_e\n",
    "\n",
    "def lambda_fluid(epsilon, lambda_r):\n",
    "    B = 1.25 * ((1-epsilon)/epsilon)**(10./9)\n",
    "    lambda_f1 = (1-sqrt(1-epsilon))\n",
    "    lambda_f2 = (2*sqrt(1-epsilon))/(1-lambda_r*B)\n",
    "    lambda_f3 = (((1-lambda_r)*B)/(1-lambda_r*B)**2)*log(1./(lambda_r*B)) - (B+1.)/2. - (B-1.)/(1.-lambda_r*B)\n",
    "    lambda_f = (lambda_f1 + lambda_f2*lambda_f3)\n",
    "    return lambda_f\n",
    "\n",
    "def lambda_contact(d):\n",
    "    return True\n",
    "    # these are for SC, change for random?\n",
    "    S = 1\n",
    "    S_F = 1\n",
    "    N_A = 1/(4.*(d/2)**2.)\n",
    "    N_L = 1/(2.*(d/2))\n",
    "    #------------------\n",
    "    p = 1.e6\n",
    "    E_s = 120.e9\n",
    "    nu_s = 0.24\n",
    "    f_s = p*S_F/N_A\n",
    "    #solid\n",
    "    lambda_s1 = ((3*(1-nu_s**2))/(4*E_s) * f_s*R)**(1./3)\n",
    "    lambda_s2 = (1./(0.531*S))*(N_A/N_L)\n",
    "    lambda_s = lambda_s1*lambda_s2\n",
    "    return lambda_s"
   ]
  },
  {
   "cell_type": "markdown",
   "metadata": {},
   "source": [
    "# Equations for graphite"
   ]
  },
  {
   "cell_type": "code",
   "execution_count": 53,
   "metadata": {
    "collapsed": false
   },
   "outputs": [
    {
     "data": {
      "text/plain": [
       "<matplotlib.legend.Legend at 0xea48ba8>"
      ]
     },
     "execution_count": 53,
     "metadata": {},
     "output_type": "execute_result"
    },
    {
     "data": {
      "image/png": "[encoded data removed]",
      "text/plain": [
       "<matplotlib.figure.Figure at 0xe13ff28>"
      ]
     },
     "metadata": {},
     "output_type": "display_data"
    }
   ],
   "source": [
    "d = 0.001 #m\n",
    "T = linspace(500,1200,100)\n",
    "T_fit = np.array([25,100,200,300,400,500,1000])\n",
    "k_s_fit = np.array([110,100,92,85,79,75,50])\n",
    "z = np.polyfit(T_fit, k_s_fit, 1)\n",
    "k_s = np.poly1d(z)\n",
    "\n",
    "k_gas = 0.0025 * T**0.72 # W/mK\n",
    "k_solid = k_s(T)\n",
    "lambda_r = k_gas / k_solid\n",
    "\n",
    "\n",
    "\n",
    "epsilon = 0.38\n",
    "epsilon_r = 0.8\n",
    "\n",
    "k_radiation = lambda_radiation(epsilon, epsilon_r, T, d, k_solid)\n",
    "k_fluid     = lambda_fluid(epsilon, lambda_r)*k_gas\n",
    "\n",
    "k_tot = k_radiation + k_fluid\n",
    "\n",
    "plot(T, k_tot,label='total')\n",
    "plot(T, k_radiation,label='radiation')\n",
    "plot(T, k_fluid,label='fluid + solid')\n",
    "legend(loc='best')"
   ]
  },
  {
   "cell_type": "markdown",
   "metadata": {},
   "source": [
    "# Apply to copper spheres"
   ]
  },
  {
   "cell_type": "markdown",
   "metadata": {},
   "source": [
    "no gas"
   ]
  },
  {
   "cell_type": "code",
   "execution_count": 54,
   "metadata": {
    "collapsed": false
   },
   "outputs": [
    {
     "data": {
      "text/plain": [
       "<matplotlib.legend.Legend at 0xde3fa20>"
      ]
     },
     "execution_count": 54,
     "metadata": {},
     "output_type": "execute_result"
    },
    {
     "data": {
      "image/png": "[encoded data removed]",
      "text/plain": [
       "<matplotlib.figure.Figure at 0xebf25c0>"
      ]
     },
     "metadata": {},
     "output_type": "display_data"
    }
   ],
   "source": [
    "d = 0.006 #m\n",
    "T = linspace(500,1200,100)\n",
    "\n",
    "k_gas = 0.0025 * T**0.72 # W/mK\n",
    "k_solid = ones(len(T))*350 # W/mK\n",
    "lambda_r = k_gas / k_solid\n",
    "\n",
    "epsilon = 0.38\n",
    "epsilon_r = 0.6\n",
    "\n",
    "k_radiation = lambda_radiation(epsilon, epsilon_r, T, d, k_solid)\n",
    "k_fluid     = lambda_fluid(epsilon, lambda_r)*k_gas\n",
    "k_contact   = lambda_contact(d)*k_gas\n",
    "\n",
    "k_tot = k_radiation + k_fluid + k_contact\n",
    "\n",
    "plot(T, k_tot,label='total')\n",
    "plot(T, k_radiation,label='radiation')\n",
    "plot(T, k_fluid,label='fluid')\n",
    "plot(T, k_contact,label='contact')\n",
    "legend(loc='best')"
   ]
  },
  {
   "cell_type": "code",
   "execution_count": 57,
   "metadata": {
    "collapsed": false
   },
   "outputs": [
    {
     "data": {
      "text/plain": [
       "<matplotlib.legend.Legend at 0xef6bda0>"
      ]
     },
     "execution_count": 57,
     "metadata": {},
     "output_type": "execute_result"
    },
    {
     "data": {
      "image/png": "[encoded data removed]",
      "text/plain": [
       "<matplotlib.figure.Figure at 0xdf8d3c8>"
      ]
     },
     "metadata": {},
     "output_type": "display_data"
    }
   ],
   "source": [
    "d = 0.06 #m\n",
    "T = linspace(200,800,100)\n",
    "T_fit = np.array([25,100,200,300,400,500,1000])\n",
    "k_s_fit = np.array([110,100,92,85,79,75,50])\n",
    "z = np.polyfit(T_fit, k_s_fit, 1)\n",
    "k_s = np.poly1d(z)\n",
    "\n",
    "k_gas = 0.0025 * T**0.72 # W/mK\n",
    "k_solid = k_s(T)\n",
    "lambda_r = k_gas / k_solid\n",
    "\n",
    "\n",
    "\n",
    "epsilon = 0.38\n",
    "epsilon_r = 0.8\n",
    "\n",
    "k_radiation = lambda_radiation(epsilon, epsilon_r, T, d, k_solid)\n",
    "k_fluid     = lambda_fluid(epsilon, lambda_r)*k_gas\n",
    "\n",
    "k_tot = k_radiation + k_fluid\n",
    "\n",
    "plot(T, k_tot,label='total')\n",
    "plot(T, k_radiation,label='radiation')\n",
    "plot(T, k_fluid,label='fluid')\n",
    "legend(loc='best')"
   ]
  },
  {
   "cell_type": "code",
   "execution_count": null,
   "metadata": {
    "collapsed": true
   },
   "outputs": [],
   "source": []
  }
 ],
 "metadata": {
  "kernelspec": {
   "display_name": "Python 2",
   "language": "python",
   "name": "python2"
  },
  "language_info": {
   "codemirror_mode": {
    "name": "ipython",
    "version": 2
   },
   "file_extension": ".py",
   "mimetype": "text/x-python",
   "name": "python",
   "nbconvert_exporter": "python",
   "pygments_lexer": "ipython2",
   "version": "2.7.9"
  }
 },
 "nbformat": 4,
 "nbformat_minor": 0
}
