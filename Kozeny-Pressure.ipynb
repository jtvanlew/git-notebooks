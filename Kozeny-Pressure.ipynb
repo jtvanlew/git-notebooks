{
 "cells": [
  {
   "cell_type": "code",
   "execution_count": 3,
   "metadata": {
    "collapsed": true
   },
   "outputs": [],
   "source": [
    "def kozeny_dp(ep,Re,L):\n",
    "    f = 180*(1-ep)**2/(ep**3)\n",
    "    "
   ]
  },
  {
   "cell_type": "code",
   "execution_count": null,
   "metadata": {
    "collapsed": true
   },
   "outputs": [],
   "source": []
  },
  {
   "cell_type": "code",
   "execution_count": 2,
   "metadata": {
    "collapsed": true
   },
   "outputs": [],
   "source": [
    "import \tnumpy \t\t\t\tas \t\tnp \n",
    "from \tscipy.optimize \t\timport \tfsolve\n",
    "import \tmatplotlib.pyplot \tas \t\tplt\n",
    "\n",
    "plt.close('all')\n",
    "\n",
    "n = 3\n",
    "color = plt.cm.jet(np.linspace(0,1,n))\n",
    "\n",
    "\n",
    "phis = np.linspace(0.3, 0.64, 100)\n",
    "Res = np.linspace(0, 50, 6)\n",
    "\n",
    "F_kc = np.zeros(len(phis))\n",
    "F_e = np.zeros(len(phis))\n",
    "F_khl = np.zeros(len(phis))\n",
    "\n",
    "for j, Re in enumerate(Res):\n",
    "\tfor i, phi in enumerate(phis):\n",
    "\t\tep = 1. - phi\n",
    "\n",
    "\t\t#kozeny-carman\n",
    "\t\tF_kc[i] = 10. *(phi/ep**3.)\n",
    "\n",
    "\t\t#ergun\n",
    "\t\tF_e[i] = 8.33 *(phi/ep**3) + 0.18 * Re/ep**3\n",
    "\n",
    "\n",
    "\t\t# koch-hill-ladd\n",
    "\t\tif phi < 0.4:\n",
    "\t\t\tF0 = 1+3.*np.sqrt(phi/2.)+125./64*phi*np.log(phi)+16.14*phi/(1+0.681*phi-8.48*phi**2+8.16*phi**3)\n",
    "\t\telse:\n",
    "\t\t\tF0 = 10*phi/ep**3\n",
    "\t\t\n",
    "\t\tF3 = 0.0673 + 0.212*phi + 0.0232/(ep**5)\n",
    "\t\t\n",
    "\t\tF_khl[i] = F0 + F3*Re\n",
    "\n",
    "\tplt.figure(num=j, figsize=(6, 5), dpi=80, facecolor='w', edgecolor='k')\n",
    "\tplt.xlabel(r'Packing fraction, $\\phi$')\n",
    "\tplt.ylabel(r'Dimensionless drag, $F$')\n",
    "\tplt.grid()\n",
    "\tplt.plot(phis, F_kc, label = 'Kozeny-Carman')#, color=color[0])\n",
    "\tplt.plot(phis, F_e, label = 'Ergun')#, color=color[1])\n",
    "\tplt.plot(phis, F_khl, label = 'Koch-Hill-Ladd')#, color=color[2])\n",
    "\t# plt.ylim([0, 1])\n",
    "\t# plt.xlim([0, 1])\n",
    "\tplt.title('Reynolds number = %s'%(np.round(Re,1)))\n",
    "\tplt.legend(loc='best')\n",
    "\t\n"
   ]
  },
  {
   "cell_type": "code",
   "execution_count": null,
   "metadata": {
    "collapsed": true
   },
   "outputs": [],
   "source": []
  }
 ],
 "metadata": {
  "kernelspec": {
   "display_name": "Python 2",
   "language": "python",
   "name": "python2"
  },
  "language_info": {
   "codemirror_mode": {
    "name": "ipython",
    "version": 2
   },
   "file_extension": ".py",
   "mimetype": "text/x-python",
   "name": "python",
   "nbconvert_exporter": "python",
   "pygments_lexer": "ipython2",
   "version": "2.7.9"
  }
 },
 "nbformat": 4,
 "nbformat_minor": 0
}
